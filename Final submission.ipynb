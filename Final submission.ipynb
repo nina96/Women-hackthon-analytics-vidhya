{
 "cells": [
  {
   "cell_type": "markdown",
   "id": "6d1826eb-a62f-446c-85b6-7ccc8f1548ff",
   "metadata": {},
   "source": [
    "# PREVENTING BANK CUSTOMER CHURN! \n",
    " # \" Exploratory Data Analysis & Prediction!\"\n",
    " [** by_Nancy Pandey** ]"
   ]
  },
  {
   "cell_type": "markdown",
   "id": "021a7b9f-cb10-4485-afd1-2a5a2aec5b8a",
   "metadata": {},
   "source": [
    "### 1. Introduction\n",
    "We aim to accomplist the following for this study:\n",
    "\n",
    "1. Identify and visualize which factors contribute to customer churn:\n",
    "\n",
    "2. Build a prediction model that will perform the following:\n",
    "\n",
    "3. Classify if a customer is going to churn or not\n",
    " \n",
    " Preferably and based on model performance, choose a model that will attach a probability to the churn to make it easier for customer service to target low hanging fruits in their efforts to prevent churn"
   ]
  },
  {
   "cell_type": "markdown",
   "id": "f0ecdaa1-d498-44dd-ad8f-cdcc2178b95c",
   "metadata": {},
   "source": [
    "### 2. Data review and preparation\n",
    "In this section we will seek to explore the structure of our data:\n",
    "\n",
    "1. To understand the input space the data set\n",
    "2. And to prepare the sets for exploratory and prediction tasks as described in section "
   ]
  },
  {
   "cell_type": "code",
   "execution_count": 1,
   "id": "ea4aa30e-1ca6-496b-9d9a-f69119b6e197",
   "metadata": {},
   "outputs": [],
   "source": [
    "#Required libraries \n",
    "import numpy as np\n",
    "import pandas as pd\n",
    "import matplotlib.pyplot as plt\n",
    "import seaborn as sns\n",
    "from sklearn import metrics\n",
    "%matplotlib inline\n"
   ]
  },
  {
   "cell_type": "code",
   "execution_count": 2,
   "id": "5625cc6b-2cce-4f1a-a0bd-8c5117256303",
   "metadata": {},
   "outputs": [],
   "source": [
    "#Adding data\n",
    "data_train= pd.read_csv(\"train_PDjVQMB.csv\")\n",
    "data_test=pd.read_csv(\"test_lTY72QC.csv\")\n",
    "data_submit=pd.read_csv(\"sample_OoSmYo5.csv\")"
   ]
  },
  {
   "cell_type": "code",
   "execution_count": 3,
   "id": "89eb3e99-07c2-407a-beaa-e1f116ccc9f7",
   "metadata": {},
   "outputs": [
    {
     "name": "stdout",
     "output_type": "stream",
     "text": [
      "(2851, 10)\n",
      "(6650, 11)\n"
     ]
    }
   ],
   "source": [
    "print(data_test.shape)\n",
    "print(data_train.shape)"
   ]
  },
  {
   "cell_type": "code",
   "execution_count": 4,
   "id": "b7b4c37e-8698-4aeb-aa01-3ac399f9def1",
   "metadata": {},
   "outputs": [
    {
     "data": {
      "text/html": [
       "<div>\n",
       "<style scoped>\n",
       "    .dataframe tbody tr th:only-of-type {\n",
       "        vertical-align: middle;\n",
       "    }\n",
       "\n",
       "    .dataframe tbody tr th {\n",
       "        vertical-align: top;\n",
       "    }\n",
       "\n",
       "    .dataframe thead th {\n",
       "        text-align: right;\n",
       "    }\n",
       "</style>\n",
       "<table border=\"1\" class=\"dataframe\">\n",
       "  <thead>\n",
       "    <tr style=\"text-align: right;\">\n",
       "      <th></th>\n",
       "      <th>ID</th>\n",
       "      <th>Age</th>\n",
       "      <th>Gender</th>\n",
       "      <th>Income</th>\n",
       "      <th>Balance</th>\n",
       "      <th>Vintage</th>\n",
       "      <th>Transaction_Status</th>\n",
       "      <th>Product_Holdings</th>\n",
       "      <th>Credit_Card</th>\n",
       "      <th>Credit_Category</th>\n",
       "      <th>Is_Churn</th>\n",
       "    </tr>\n",
       "  </thead>\n",
       "  <tbody>\n",
       "    <tr>\n",
       "      <th>0</th>\n",
       "      <td>84e2fcc9</td>\n",
       "      <td>36</td>\n",
       "      <td>Female</td>\n",
       "      <td>5L - 10L</td>\n",
       "      <td>563266.44</td>\n",
       "      <td>4</td>\n",
       "      <td>0</td>\n",
       "      <td>1</td>\n",
       "      <td>0</td>\n",
       "      <td>Average</td>\n",
       "      <td>1</td>\n",
       "    </tr>\n",
       "    <tr>\n",
       "      <th>1</th>\n",
       "      <td>57fea15e</td>\n",
       "      <td>53</td>\n",
       "      <td>Female</td>\n",
       "      <td>Less than 5L</td>\n",
       "      <td>875572.11</td>\n",
       "      <td>2</td>\n",
       "      <td>1</td>\n",
       "      <td>1</td>\n",
       "      <td>1</td>\n",
       "      <td>Poor</td>\n",
       "      <td>0</td>\n",
       "    </tr>\n",
       "    <tr>\n",
       "      <th>2</th>\n",
       "      <td>8df34ef3</td>\n",
       "      <td>35</td>\n",
       "      <td>Female</td>\n",
       "      <td>More than 15L</td>\n",
       "      <td>701607.06</td>\n",
       "      <td>2</td>\n",
       "      <td>1</td>\n",
       "      <td>2</td>\n",
       "      <td>0</td>\n",
       "      <td>Poor</td>\n",
       "      <td>0</td>\n",
       "    </tr>\n",
       "    <tr>\n",
       "      <th>3</th>\n",
       "      <td>c5c0788b</td>\n",
       "      <td>43</td>\n",
       "      <td>Female</td>\n",
       "      <td>More than 15L</td>\n",
       "      <td>1393922.16</td>\n",
       "      <td>0</td>\n",
       "      <td>1</td>\n",
       "      <td>2</td>\n",
       "      <td>1</td>\n",
       "      <td>Poor</td>\n",
       "      <td>1</td>\n",
       "    </tr>\n",
       "    <tr>\n",
       "      <th>4</th>\n",
       "      <td>951d69c4</td>\n",
       "      <td>39</td>\n",
       "      <td>Female</td>\n",
       "      <td>More than 15L</td>\n",
       "      <td>893146.23</td>\n",
       "      <td>1</td>\n",
       "      <td>1</td>\n",
       "      <td>1</td>\n",
       "      <td>1</td>\n",
       "      <td>Good</td>\n",
       "      <td>1</td>\n",
       "    </tr>\n",
       "    <tr>\n",
       "      <th>...</th>\n",
       "      <td>...</td>\n",
       "      <td>...</td>\n",
       "      <td>...</td>\n",
       "      <td>...</td>\n",
       "      <td>...</td>\n",
       "      <td>...</td>\n",
       "      <td>...</td>\n",
       "      <td>...</td>\n",
       "      <td>...</td>\n",
       "      <td>...</td>\n",
       "      <td>...</td>\n",
       "    </tr>\n",
       "    <tr>\n",
       "      <th>6645</th>\n",
       "      <td>a8216afd</td>\n",
       "      <td>61</td>\n",
       "      <td>Male</td>\n",
       "      <td>5L - 10L</td>\n",
       "      <td>1354526.19</td>\n",
       "      <td>4</td>\n",
       "      <td>1</td>\n",
       "      <td>2</td>\n",
       "      <td>1</td>\n",
       "      <td>Poor</td>\n",
       "      <td>1</td>\n",
       "    </tr>\n",
       "    <tr>\n",
       "      <th>6646</th>\n",
       "      <td>153a306b</td>\n",
       "      <td>42</td>\n",
       "      <td>Female</td>\n",
       "      <td>5L - 10L</td>\n",
       "      <td>596286.54</td>\n",
       "      <td>3</td>\n",
       "      <td>1</td>\n",
       "      <td>2</td>\n",
       "      <td>1</td>\n",
       "      <td>Average</td>\n",
       "      <td>0</td>\n",
       "    </tr>\n",
       "    <tr>\n",
       "      <th>6647</th>\n",
       "      <td>d4075a95</td>\n",
       "      <td>29</td>\n",
       "      <td>Male</td>\n",
       "      <td>Less than 5L</td>\n",
       "      <td>979298.19</td>\n",
       "      <td>2</td>\n",
       "      <td>0</td>\n",
       "      <td>2</td>\n",
       "      <td>0</td>\n",
       "      <td>Poor</td>\n",
       "      <td>0</td>\n",
       "    </tr>\n",
       "    <tr>\n",
       "      <th>6648</th>\n",
       "      <td>5855b142</td>\n",
       "      <td>66</td>\n",
       "      <td>Female</td>\n",
       "      <td>10L - 15L</td>\n",
       "      <td>395233.65</td>\n",
       "      <td>3</td>\n",
       "      <td>0</td>\n",
       "      <td>2</td>\n",
       "      <td>1</td>\n",
       "      <td>Poor</td>\n",
       "      <td>1</td>\n",
       "    </tr>\n",
       "    <tr>\n",
       "      <th>6649</th>\n",
       "      <td>57b39511</td>\n",
       "      <td>37</td>\n",
       "      <td>Male</td>\n",
       "      <td>More than 15L</td>\n",
       "      <td>826947.27</td>\n",
       "      <td>1</td>\n",
       "      <td>1</td>\n",
       "      <td>2</td>\n",
       "      <td>0</td>\n",
       "      <td>Good</td>\n",
       "      <td>0</td>\n",
       "    </tr>\n",
       "  </tbody>\n",
       "</table>\n",
       "<p>6650 rows × 11 columns</p>\n",
       "</div>"
      ],
      "text/plain": [
       "            ID  Age  Gender         Income     Balance  Vintage  \\\n",
       "0     84e2fcc9   36  Female       5L - 10L   563266.44        4   \n",
       "1     57fea15e   53  Female   Less than 5L   875572.11        2   \n",
       "2     8df34ef3   35  Female  More than 15L   701607.06        2   \n",
       "3     c5c0788b   43  Female  More than 15L  1393922.16        0   \n",
       "4     951d69c4   39  Female  More than 15L   893146.23        1   \n",
       "...        ...  ...     ...            ...         ...      ...   \n",
       "6645  a8216afd   61    Male       5L - 10L  1354526.19        4   \n",
       "6646  153a306b   42  Female       5L - 10L   596286.54        3   \n",
       "6647  d4075a95   29    Male   Less than 5L   979298.19        2   \n",
       "6648  5855b142   66  Female      10L - 15L   395233.65        3   \n",
       "6649  57b39511   37    Male  More than 15L   826947.27        1   \n",
       "\n",
       "      Transaction_Status Product_Holdings  Credit_Card Credit_Category  \\\n",
       "0                      0                1            0         Average   \n",
       "1                      1                1            1            Poor   \n",
       "2                      1                2            0            Poor   \n",
       "3                      1                2            1            Poor   \n",
       "4                      1                1            1            Good   \n",
       "...                  ...              ...          ...             ...   \n",
       "6645                   1                2            1            Poor   \n",
       "6646                   1                2            1         Average   \n",
       "6647                   0                2            0            Poor   \n",
       "6648                   0                2            1            Poor   \n",
       "6649                   1                2            0            Good   \n",
       "\n",
       "      Is_Churn  \n",
       "0            1  \n",
       "1            0  \n",
       "2            0  \n",
       "3            1  \n",
       "4            1  \n",
       "...        ...  \n",
       "6645         1  \n",
       "6646         0  \n",
       "6647         0  \n",
       "6648         1  \n",
       "6649         0  \n",
       "\n",
       "[6650 rows x 11 columns]"
      ]
     },
     "execution_count": 4,
     "metadata": {},
     "output_type": "execute_result"
    }
   ],
   "source": [
    "df_churn= data_train.copy()\n",
    "df_churn"
   ]
  },
  {
   "cell_type": "code",
   "execution_count": 5,
   "id": "4639550e-1e35-4ebe-9210-ba5714acd9eb",
   "metadata": {},
   "outputs": [
    {
     "data": {
      "text/plain": [
       "ID                    0\n",
       "Age                   0\n",
       "Gender                0\n",
       "Income                0\n",
       "Balance               0\n",
       "Vintage               0\n",
       "Transaction_Status    0\n",
       "Product_Holdings      0\n",
       "Credit_Card           0\n",
       "Credit_Category       0\n",
       "Is_Churn              0\n",
       "dtype: int64"
      ]
     },
     "execution_count": 5,
     "metadata": {},
     "output_type": "execute_result"
    }
   ],
   "source": [
    "#Lets do null checking first\n",
    "df_churn.isnull().sum()"
   ]
  },
  {
   "cell_type": "code",
   "execution_count": 6,
   "id": "cc34284d-a943-4dd5-9a92-bf879636acd4",
   "metadata": {},
   "outputs": [
    {
     "data": {
      "text/plain": [
       "ID                    6650\n",
       "Age                     52\n",
       "Gender                   2\n",
       "Income                   4\n",
       "Balance               6643\n",
       "Vintage                  6\n",
       "Transaction_Status       2\n",
       "Product_Holdings         3\n",
       "Credit_Card              2\n",
       "Credit_Category          3\n",
       "Is_Churn                 2\n",
       "dtype: int64"
      ]
     },
     "execution_count": 6,
     "metadata": {},
     "output_type": "execute_result"
    }
   ],
   "source": [
    "df_churn.nunique()"
   ]
  },
  {
   "cell_type": "code",
   "execution_count": 7,
   "id": "48a1c371-7243-48fd-9212-7460bec0c9bd",
   "metadata": {},
   "outputs": [
    {
     "data": {
      "text/plain": [
       "ID                     object\n",
       "Age                     int64\n",
       "Gender                 object\n",
       "Income                 object\n",
       "Balance               float64\n",
       "Vintage                 int64\n",
       "Transaction_Status      int64\n",
       "Product_Holdings       object\n",
       "Credit_Card             int64\n",
       "Credit_Category        object\n",
       "Is_Churn                int64\n",
       "dtype: object"
      ]
     },
     "execution_count": 7,
     "metadata": {},
     "output_type": "execute_result"
    }
   ],
   "source": [
    "df_churn.dtypes"
   ]
  },
  {
   "cell_type": "code",
   "execution_count": 8,
   "id": "0bfae467-3529-44ed-8780-f44c9371a798",
   "metadata": {},
   "outputs": [
    {
     "data": {
      "text/plain": [
       "<AxesSubplot:xlabel='Age'>"
      ]
     },
     "execution_count": 8,
     "metadata": {},
     "output_type": "execute_result"
    },
    {
     "data": {
      "image/png": "[encoded data removed]",
      "text/plain": [
       "<Figure size 360x360 with 1 Axes>"
      ]
     },
     "metadata": {
      "needs_background": "light"
     },
     "output_type": "display_data"
    }
   ],
   "source": [
    "#Lets check for outliers\n",
    "plt.figure(figsize=(5,5))\n",
    "sns.boxplot(x='Age',data=df_churn)"
   ]
  },
  {
   "cell_type": "code",
   "execution_count": 9,
   "id": "b06aa12c-b867-4dd8-bc29-d1bfa976bbc3",
   "metadata": {},
   "outputs": [
    {
     "data": {
      "text/plain": [
       "<AxesSubplot:xlabel='Age'>"
      ]
     },
     "execution_count": 9,
     "metadata": {},
     "output_type": "execute_result"
    },
    {
     "data": {
      "image/png": "[encoded data removed]",
      "text/plain": [
       "<Figure size 432x288 with 1 Axes>"
      ]
     },
     "metadata": {
      "needs_background": "light"
     },
     "output_type": "display_data"
    }
   ],
   "source": [
    "df_churn=df_churn[df_churn['Age'].values<65]\n",
    "sns.boxplot(x='Age',data=df_churn)"
   ]
  },
  {
   "cell_type": "code",
   "execution_count": 10,
   "id": "4695de6d-31a0-450c-837e-46628d0f2967",
   "metadata": {},
   "outputs": [
    {
     "data": {
      "text/plain": [
       "<AxesSubplot:xlabel='Balance'>"
      ]
     },
     "execution_count": 10,
     "metadata": {},
     "output_type": "execute_result"
    },
    {
     "data": {
      "image/png": "[encoded data removed]",
      "text/plain": [
       "<Figure size 360x360 with 1 Axes>"
      ]
     },
     "metadata": {
      "needs_background": "light"
     },
     "output_type": "display_data"
    }
   ],
   "source": [
    "plt.figure(figsize=(5,5))\n",
    "sns.boxplot(x='Balance',data=df_churn)"
   ]
  },
  {
   "cell_type": "code",
   "execution_count": 11,
   "id": "8c5b861a-88ce-4591-8cac-91b37b896395",
   "metadata": {},
   "outputs": [
    {
     "data": {
      "text/plain": [
       "<AxesSubplot:xlabel='Balance'>"
      ]
     },
     "execution_count": 11,
     "metadata": {},
     "output_type": "execute_result"
    },
    {
     "data": {
      "image/png": "[encoded data removed]",
      "text/plain": [
       "<Figure size 432x288 with 1 Axes>"
      ]
     },
     "metadata": {
      "needs_background": "light"
     },
     "output_type": "display_data"
    }
   ],
   "source": [
    "2500000\n",
    "df_churn=df_churn[df_churn['Balance'].values<2100000]\n",
    "sns.boxplot(x='Balance',data=df_churn)"
   ]
  },
  {
   "cell_type": "markdown",
   "id": "4f31a655-4136-4e7e-b77b-ffd335347dbb",
   "metadata": {},
   "source": [
    "Others have less than 10 unique values so not much of use to find the mean of them. We have to check there effect of churned predictions and lets first check the ratio of the churned and not churned record"
   ]
  },
  {
   "cell_type": "code",
   "execution_count": 12,
   "id": "aaf95fbf-f44e-4309-9cd3-d92f9dd1b991",
   "metadata": {},
   "outputs": [
    {
     "data": {
      "text/plain": [
       "<AxesSubplot:xlabel='Is_Churn', ylabel='count'>"
      ]
     },
     "execution_count": 12,
     "metadata": {},
     "output_type": "execute_result"
    },
    {
     "data": {
      "image/png": "[encoded data removed]",
      "text/plain": [
       "<Figure size 432x288 with 1 Axes>"
      ]
     },
     "metadata": {
      "needs_background": "light"
     },
     "output_type": "display_data"
    }
   ],
   "source": [
    "sns.countplot(x='Is_Churn',data=df_churn)"
   ]
  },
  {
   "cell_type": "markdown",
   "id": "cbd1bfde-4b55-426f-a08d-f8398f89c8b0",
   "metadata": {},
   "source": [
    "The data as we can see is imbalanced , so we ghave to use the imbalanced classification approach. SMOTE is widely used approach for imbalanced dataset. We dont have huge dataset so we will prefer to go for oversampling."
   ]
  },
  {
   "cell_type": "markdown",
   "id": "24f89d52-3b9d-4ef4-92f8-eee0822e41b3",
   "metadata": {},
   "source": [
    "Our dataset have many columns with not more than 10 unique values, so columns that are of object type we will use **Label Encoder** to encode their value e.g. Income"
   ]
  },
  {
   "cell_type": "code",
   "execution_count": 13,
   "id": "29284f35-9ce9-4f03-8ed8-9ecaa72903d4",
   "metadata": {},
   "outputs": [
    {
     "data": {
      "text/html": [
       "<div>\n",
       "<style scoped>\n",
       "    .dataframe tbody tr th:only-of-type {\n",
       "        vertical-align: middle;\n",
       "    }\n",
       "\n",
       "    .dataframe tbody tr th {\n",
       "        vertical-align: top;\n",
       "    }\n",
       "\n",
       "    .dataframe thead th {\n",
       "        text-align: right;\n",
       "    }\n",
       "</style>\n",
       "<table border=\"1\" class=\"dataframe\">\n",
       "  <thead>\n",
       "    <tr style=\"text-align: right;\">\n",
       "      <th></th>\n",
       "      <th>ID</th>\n",
       "      <th>Age</th>\n",
       "      <th>Gender</th>\n",
       "      <th>Income</th>\n",
       "      <th>Balance</th>\n",
       "      <th>Vintage</th>\n",
       "      <th>Transaction_Status</th>\n",
       "      <th>Product_Holdings</th>\n",
       "      <th>Credit_Card</th>\n",
       "      <th>Credit_Category</th>\n",
       "      <th>Is_Churn</th>\n",
       "    </tr>\n",
       "  </thead>\n",
       "  <tbody>\n",
       "    <tr>\n",
       "      <th>0</th>\n",
       "      <td>84e2fcc9</td>\n",
       "      <td>36</td>\n",
       "      <td>0</td>\n",
       "      <td>1</td>\n",
       "      <td>563266.44</td>\n",
       "      <td>4</td>\n",
       "      <td>0</td>\n",
       "      <td>1</td>\n",
       "      <td>0</td>\n",
       "      <td>0</td>\n",
       "      <td>1</td>\n",
       "    </tr>\n",
       "    <tr>\n",
       "      <th>1</th>\n",
       "      <td>57fea15e</td>\n",
       "      <td>53</td>\n",
       "      <td>0</td>\n",
       "      <td>2</td>\n",
       "      <td>875572.11</td>\n",
       "      <td>2</td>\n",
       "      <td>1</td>\n",
       "      <td>1</td>\n",
       "      <td>1</td>\n",
       "      <td>2</td>\n",
       "      <td>0</td>\n",
       "    </tr>\n",
       "    <tr>\n",
       "      <th>2</th>\n",
       "      <td>8df34ef3</td>\n",
       "      <td>35</td>\n",
       "      <td>0</td>\n",
       "      <td>3</td>\n",
       "      <td>701607.06</td>\n",
       "      <td>2</td>\n",
       "      <td>1</td>\n",
       "      <td>2</td>\n",
       "      <td>0</td>\n",
       "      <td>2</td>\n",
       "      <td>0</td>\n",
       "    </tr>\n",
       "    <tr>\n",
       "      <th>3</th>\n",
       "      <td>c5c0788b</td>\n",
       "      <td>43</td>\n",
       "      <td>0</td>\n",
       "      <td>3</td>\n",
       "      <td>1393922.16</td>\n",
       "      <td>0</td>\n",
       "      <td>1</td>\n",
       "      <td>2</td>\n",
       "      <td>1</td>\n",
       "      <td>2</td>\n",
       "      <td>1</td>\n",
       "    </tr>\n",
       "    <tr>\n",
       "      <th>4</th>\n",
       "      <td>951d69c4</td>\n",
       "      <td>39</td>\n",
       "      <td>0</td>\n",
       "      <td>3</td>\n",
       "      <td>893146.23</td>\n",
       "      <td>1</td>\n",
       "      <td>1</td>\n",
       "      <td>1</td>\n",
       "      <td>1</td>\n",
       "      <td>1</td>\n",
       "      <td>1</td>\n",
       "    </tr>\n",
       "  </tbody>\n",
       "</table>\n",
       "</div>"
      ],
      "text/plain": [
       "         ID  Age  Gender  Income     Balance  Vintage  Transaction_Status  \\\n",
       "0  84e2fcc9   36       0       1   563266.44        4                   0   \n",
       "1  57fea15e   53       0       2   875572.11        2                   1   \n",
       "2  8df34ef3   35       0       3   701607.06        2                   1   \n",
       "3  c5c0788b   43       0       3  1393922.16        0                   1   \n",
       "4  951d69c4   39       0       3   893146.23        1                   1   \n",
       "\n",
       "  Product_Holdings  Credit_Card  Credit_Category  Is_Churn  \n",
       "0                1            0                0         1  \n",
       "1                1            1                2         0  \n",
       "2                2            0                2         0  \n",
       "3                2            1                2         1  \n",
       "4                1            1                1         1  "
      ]
     },
     "execution_count": 13,
     "metadata": {},
     "output_type": "execute_result"
    }
   ],
   "source": [
    "from sklearn.preprocessing import LabelEncoder\n",
    "le= LabelEncoder()\n",
    "df_churn['Gender']=le.fit_transform(df_churn['Gender'])\n",
    "df_churn['Income']= le.fit_transform(df_churn['Income'])\n",
    "df_churn['Credit_Category']= le.fit_transform(df_churn['Credit_Category'])\n",
    "df_churn.head()"
   ]
  },
  {
   "cell_type": "code",
   "execution_count": 14,
   "id": "91042530-5735-4cc9-b55c-5faa8396f106",
   "metadata": {},
   "outputs": [
    {
     "data": {
      "text/plain": [
       "ID                     object\n",
       "Age                     int64\n",
       "Gender                  int32\n",
       "Income                  int32\n",
       "Balance               float64\n",
       "Vintage                 int64\n",
       "Transaction_Status      int64\n",
       "Product_Holdings       object\n",
       "Credit_Card             int64\n",
       "Credit_Category         int32\n",
       "Is_Churn                int64\n",
       "dtype: object"
      ]
     },
     "execution_count": 14,
     "metadata": {},
     "output_type": "execute_result"
    }
   ],
   "source": [
    "df_churn.dtypes"
   ]
  },
  {
   "cell_type": "code",
   "execution_count": 15,
   "id": "99d59e67-b49e-474c-b3d0-6bb11e213e0a",
   "metadata": {},
   "outputs": [
    {
     "data": {
      "text/html": [
       "<div>\n",
       "<style scoped>\n",
       "    .dataframe tbody tr th:only-of-type {\n",
       "        vertical-align: middle;\n",
       "    }\n",
       "\n",
       "    .dataframe tbody tr th {\n",
       "        vertical-align: top;\n",
       "    }\n",
       "\n",
       "    .dataframe thead th {\n",
       "        text-align: right;\n",
       "    }\n",
       "</style>\n",
       "<table border=\"1\" class=\"dataframe\">\n",
       "  <thead>\n",
       "    <tr style=\"text-align: right;\">\n",
       "      <th></th>\n",
       "      <th>ID</th>\n",
       "      <th>Age</th>\n",
       "      <th>Gender</th>\n",
       "      <th>Income</th>\n",
       "      <th>Balance</th>\n",
       "      <th>Vintage</th>\n",
       "      <th>Transaction_Status</th>\n",
       "      <th>Product_Holdings</th>\n",
       "      <th>Credit_Card</th>\n",
       "      <th>Credit_Category</th>\n",
       "      <th>Is_Churn</th>\n",
       "    </tr>\n",
       "  </thead>\n",
       "  <tbody>\n",
       "    <tr>\n",
       "      <th>0</th>\n",
       "      <td>84e2fcc9</td>\n",
       "      <td>36</td>\n",
       "      <td>0</td>\n",
       "      <td>1</td>\n",
       "      <td>563266.44</td>\n",
       "      <td>4</td>\n",
       "      <td>0</td>\n",
       "      <td>1</td>\n",
       "      <td>0</td>\n",
       "      <td>0</td>\n",
       "      <td>1</td>\n",
       "    </tr>\n",
       "    <tr>\n",
       "      <th>1</th>\n",
       "      <td>57fea15e</td>\n",
       "      <td>53</td>\n",
       "      <td>0</td>\n",
       "      <td>2</td>\n",
       "      <td>875572.11</td>\n",
       "      <td>2</td>\n",
       "      <td>1</td>\n",
       "      <td>1</td>\n",
       "      <td>1</td>\n",
       "      <td>2</td>\n",
       "      <td>0</td>\n",
       "    </tr>\n",
       "    <tr>\n",
       "      <th>2</th>\n",
       "      <td>8df34ef3</td>\n",
       "      <td>35</td>\n",
       "      <td>0</td>\n",
       "      <td>3</td>\n",
       "      <td>701607.06</td>\n",
       "      <td>2</td>\n",
       "      <td>1</td>\n",
       "      <td>2</td>\n",
       "      <td>0</td>\n",
       "      <td>2</td>\n",
       "      <td>0</td>\n",
       "    </tr>\n",
       "    <tr>\n",
       "      <th>3</th>\n",
       "      <td>c5c0788b</td>\n",
       "      <td>43</td>\n",
       "      <td>0</td>\n",
       "      <td>3</td>\n",
       "      <td>1393922.16</td>\n",
       "      <td>0</td>\n",
       "      <td>1</td>\n",
       "      <td>2</td>\n",
       "      <td>1</td>\n",
       "      <td>2</td>\n",
       "      <td>1</td>\n",
       "    </tr>\n",
       "    <tr>\n",
       "      <th>4</th>\n",
       "      <td>951d69c4</td>\n",
       "      <td>39</td>\n",
       "      <td>0</td>\n",
       "      <td>3</td>\n",
       "      <td>893146.23</td>\n",
       "      <td>1</td>\n",
       "      <td>1</td>\n",
       "      <td>1</td>\n",
       "      <td>1</td>\n",
       "      <td>1</td>\n",
       "      <td>1</td>\n",
       "    </tr>\n",
       "  </tbody>\n",
       "</table>\n",
       "</div>"
      ],
      "text/plain": [
       "         ID  Age  Gender  Income     Balance  Vintage  Transaction_Status  \\\n",
       "0  84e2fcc9   36       0       1   563266.44        4                   0   \n",
       "1  57fea15e   53       0       2   875572.11        2                   1   \n",
       "2  8df34ef3   35       0       3   701607.06        2                   1   \n",
       "3  c5c0788b   43       0       3  1393922.16        0                   1   \n",
       "4  951d69c4   39       0       3   893146.23        1                   1   \n",
       "\n",
       "   Product_Holdings  Credit_Card  Credit_Category  Is_Churn  \n",
       "0                 1            0                0         1  \n",
       "1                 1            1                2         0  \n",
       "2                 2            0                2         0  \n",
       "3                 2            1                2         1  \n",
       "4                 1            1                1         1  "
      ]
     },
     "execution_count": 15,
     "metadata": {},
     "output_type": "execute_result"
    }
   ],
   "source": [
    "df_churn['Product_Holdings']=df_churn['Product_Holdings'].str.extract('(\\d+)')\n",
    "df_churn['Product_Holdings']=df_churn['Product_Holdings'].astype('int64')\n",
    "df_churn.head()"
   ]
  },
  {
   "cell_type": "code",
   "execution_count": 16,
   "id": "d7a2fca5-0847-4faa-a1c9-2764ce92d69a",
   "metadata": {},
   "outputs": [
    {
     "data": {
      "text/plain": [
       "<AxesSubplot:>"
      ]
     },
     "execution_count": 16,
     "metadata": {},
     "output_type": "execute_result"
    },
    {
     "data": {
      "image/png": "[encoded data removed]",
      "text/plain": [
       "<Figure size 720x720 with 2 Axes>"
      ]
     },
     "metadata": {
      "needs_background": "light"
     },
     "output_type": "display_data"
    }
   ],
   "source": [
    "#lets check for correlation\n",
    "corre= df_churn.corr()\n",
    "plt.figure(figsize=(10,10))\n",
    "sns.heatmap(corre, square=True, annot=True,cmap='viridis')"
   ]
  },
  {
   "cell_type": "code",
   "execution_count": 17,
   "id": "66a8d0ce-b081-4f6b-9490-ddd312016dda",
   "metadata": {},
   "outputs": [
    {
     "data": {
      "text/plain": [
       "<AxesSubplot:xlabel='Is_Churn', ylabel='count'>"
      ]
     },
     "execution_count": 17,
     "metadata": {},
     "output_type": "execute_result"
    },
    {
     "data": {
      "image/png": "[encoded data removed]",
      "text/plain": [
       "<Figure size 432x288 with 1 Axes>"
      ]
     },
     "metadata": {
      "needs_background": "light"
     },
     "output_type": "display_data"
    }
   ],
   "source": [
    "sns.countplot(x='Is_Churn', hue='Gender', data=data_train)\n"
   ]
  },
  {
   "cell_type": "markdown",
   "id": "518cfb0d-8f28-4cad-849d-c2374d54ff90",
   "metadata": {},
   "source": [
    "#### We can see male are in higher number when it came to retention of customer but people who are leaving have  almost equal number across gender"
   ]
  },
  {
   "cell_type": "code",
   "execution_count": 18,
   "id": "949b53e0-b7ff-4863-8d10-4d04ee0c5055",
   "metadata": {},
   "outputs": [
    {
     "data": {
      "text/plain": [
       "<AxesSubplot:xlabel='Is_Churn', ylabel='count'>"
      ]
     },
     "execution_count": 18,
     "metadata": {},
     "output_type": "execute_result"
    },
    {
     "data": {
      "image/png": "[encoded data removed]",
      "text/plain": [
       "<Figure size 432x288 with 1 Axes>"
      ]
     },
     "metadata": {
      "needs_background": "light"
     },
     "output_type": "display_data"
    }
   ],
   "source": [
    "sns.countplot(x='Is_Churn', hue='Credit_Category', data=data_train)"
   ]
  },
  {
   "cell_type": "markdown",
   "id": "97eaf76b-e44c-4046-9c9a-771edb893a1b",
   "metadata": {},
   "source": [
    "#### in both churning and non-churning, people having poor credit score are on top. It might be the that people having poor credit category stick around with bank longer.\n"
   ]
  },
  {
   "cell_type": "code",
   "execution_count": 19,
   "id": "9d2cf2f6-3428-4a6c-b6d5-ed41fc3804e5",
   "metadata": {},
   "outputs": [
    {
     "data": {
      "text/plain": [
       "<AxesSubplot:xlabel='Is_Churn', ylabel='count'>"
      ]
     },
     "execution_count": 19,
     "metadata": {},
     "output_type": "execute_result"
    },
    {
     "data": {
      "image/png": "[encoded data removed]",
      "text/plain": [
       "<Figure size 432x288 with 1 Axes>"
      ]
     },
     "metadata": {
      "needs_background": "light"
     },
     "output_type": "display_data"
    }
   ],
   "source": [
    "sns.countplot(x='Is_Churn', hue='Income', data=data_train)"
   ]
  },
  {
   "cell_type": "markdown",
   "id": "dd8d9621-6148-4d77-ae03-ed4bd68113df",
   "metadata": {},
   "source": [
    "#### As we can see people between 5L to 15L, people are higher retainer that are below 15L."
   ]
  },
  {
   "cell_type": "code",
   "execution_count": 20,
   "id": "19f24e7e-3b37-4dc6-b5ab-f6dbf9824f3c",
   "metadata": {},
   "outputs": [
    {
     "data": {
      "text/plain": [
       "<AxesSubplot:xlabel='Is_Churn', ylabel='count'>"
      ]
     },
     "execution_count": 20,
     "metadata": {},
     "output_type": "execute_result"
    },
    {
     "data": {
      "image/png": "[encoded data removed]",
      "text/plain": [
       "<Figure size 432x288 with 1 Axes>"
      ]
     },
     "metadata": {
      "needs_background": "light"
     },
     "output_type": "display_data"
    }
   ],
   "source": [
    "sns.countplot(x='Is_Churn', hue='Vintage', data=data_train)"
   ]
  },
  {
   "cell_type": "code",
   "execution_count": 21,
   "id": "9cdea205-a535-49b9-8afe-b7c9c694a0b3",
   "metadata": {},
   "outputs": [
    {
     "data": {
      "text/plain": [
       "<AxesSubplot:xlabel='Is_Churn', ylabel='count'>"
      ]
     },
     "execution_count": 21,
     "metadata": {},
     "output_type": "execute_result"
    },
    {
     "data": {
      "image/png": "[encoded data removed]",
      "text/plain": [
       "<Figure size 432x288 with 1 Axes>"
      ]
     },
     "metadata": {
      "needs_background": "light"
     },
     "output_type": "display_data"
    }
   ],
   "source": [
    "sns.countplot(x='Is_Churn', hue='Transaction_Status', data=data_train)"
   ]
  },
  {
   "cell_type": "code",
   "execution_count": 22,
   "id": "5c5a50f8-82a3-41cc-bb62-5d7bbdb1918a",
   "metadata": {},
   "outputs": [
    {
     "data": {
      "text/plain": [
       "<AxesSubplot:xlabel='Is_Churn', ylabel='count'>"
      ]
     },
     "execution_count": 22,
     "metadata": {},
     "output_type": "execute_result"
    },
    {
     "data": {
      "image/png": "[encoded data removed]",
      "text/plain": [
       "<Figure size 432x288 with 1 Axes>"
      ]
     },
     "metadata": {
      "needs_background": "light"
     },
     "output_type": "display_data"
    }
   ],
   "source": [
    "sns.countplot(x='Is_Churn', hue='Product_Holdings', data=data_train)"
   ]
  },
  {
   "cell_type": "code",
   "execution_count": 23,
   "id": "f85e0352-4967-4f9c-ac46-9bf055a1b1b5",
   "metadata": {},
   "outputs": [],
   "source": [
    "from sklearn.model_selection import train_test_split\n",
    "feature=df_churn.drop(['ID','Is_Churn'], axis=1)\n",
    "target=df_churn['Is_Churn']\n",
    "x_train,x_test,y_train,y_test=train_test_split(feature,target, random_state=60, test_size=0.1)"
   ]
  },
  {
   "cell_type": "code",
   "execution_count": 24,
   "id": "1222ab5f-9bda-4857-92d4-7ffd4341e4e5",
   "metadata": {},
   "outputs": [],
   "source": [
    "#We will use SMOTE \n",
    "from imblearn.over_sampling import SMOTE\n",
    "from imblearn.over_sampling import ADASYN\n",
    "from imblearn.combine import SMOTEENN\n",
    "\n",
    "#oversampling minority class using smote\n",
    "smote = SMOTE(random_state = 42)\n",
    "x_smote, y_smote = smote.fit_resample(x_train, y_train)\n",
    "\n",
    "#We will try SMOTEENN which will this method combines the SMOTE ability to generate synthetic examples for minority class \n",
    "#and ENN ability to delete some observations from both classes that are identified as having different class between the observation’s class and its K-nearest neighbor majority class.\n",
    "smoten = SMOTEENN()\n",
    "x_smoten, y_smoten = smoten.fit_resample(x_train, y_train)\n",
    "\n",
    "#Oversample using Adaptive Synthetic (ADASYN) algorithm.\n",
    "#This method is similar to SMOTE but it generates different number of samples depending on an estimate of the local distribution of the class to be oversampled.\n",
    "ada = ADASYN(random_state=101)\n",
    "x_res, y_res = ada.fit_resample(x_train, y_train)\n"
   ]
  },
  {
   "cell_type": "code",
   "execution_count": 25,
   "id": "454d4ba4-635d-4416-bbe1-e297505d5f0e",
   "metadata": {},
   "outputs": [],
   "source": [
    "from sklearn.preprocessing import PolynomialFeatures\n",
    "from sklearn.model_selection import cross_val_score\n",
    "from sklearn.linear_model import LogisticRegression\n",
    "from sklearn.svm import SVC\n",
    "from xgboost import XGBClassifier\n",
    "from sklearn.neighbors import KNeighborsClassifier\n",
    "from sklearn.ensemble import RandomForestClassifier\n",
    "from sklearn.model_selection import GridSearchCV\n",
    "\n",
    "\n",
    "# Function to give best model score and parameters\n",
    "def best_model(model):\n",
    "    print(model.best_score_)    \n",
    "    print(model.best_params_)\n",
    "    print(model.best_estimator_)\n",
    "def get_auc_scores(y_actual, method,method2):\n",
    "    auc_score = metrics.roc_auc_score(y_actual, method); \n",
    "    fpr_df, tpr_df, _ = metrics.roc_curve(y_actual, method2); \n",
    "    return (auc_score, fpr_df, tpr_df)"
   ]
  },
  {
   "cell_type": "code",
   "execution_count": 16,
   "id": "6e402113-97a8-4b96-a649-a2efc211661a",
   "metadata": {},
   "outputs": [
    {
     "name": "stderr",
     "output_type": "stream",
     "text": [
      " 90%|████████▉ | 26/29 [00:13<00:01,  1.63it/s]"
     ]
    },
    {
     "name": "stdout",
     "output_type": "stream",
     "text": [
      "[22:19:32] WARNING: D:\\bld\\xgboost-split_1643227225381\\work\\src\\learner.cc:1115: Starting in XGBoost 1.3.0, the default evaluation metric used with the objective 'binary:logistic' was changed from 'error' to 'logloss'. Explicitly set eval_metric if you'd like to restore the old behavior.\n"
     ]
    },
    {
     "name": "stderr",
     "output_type": "stream",
     "text": [
      "100%|██████████| 29/29 [00:14<00:00,  2.01it/s]"
     ]
    },
    {
     "name": "stdout",
     "output_type": "stream",
     "text": [
      "                               Accuracy  Balanced Accuracy  ROC AUC  F1 Score  \\\n",
      "Model                                                                           \n",
      "LogisticRegression                 0.62               0.56     0.56      0.65   \n",
      "CalibratedClassifierCV             0.63               0.56     0.56      0.65   \n",
      "LinearSVC                          0.62               0.56     0.56      0.64   \n",
      "LinearDiscriminantAnalysis         0.62               0.56     0.56      0.64   \n",
      "RidgeClassifierCV                  0.62               0.56     0.56      0.64   \n",
      "RidgeClassifier                    0.62               0.56     0.56      0.64   \n",
      "NearestCentroid                    0.62               0.56     0.56      0.64   \n",
      "SVC                                0.65               0.55     0.55      0.67   \n",
      "SGDClassifier                      0.59               0.55     0.55      0.62   \n",
      "BernoulliNB                        0.62               0.55     0.55      0.64   \n",
      "AdaBoostClassifier                 0.62               0.55     0.55      0.65   \n",
      "GaussianNB                         0.62               0.55     0.55      0.65   \n",
      "QuadraticDiscriminantAnalysis      0.64               0.55     0.55      0.66   \n",
      "LGBMClassifier                     0.65               0.54     0.54      0.67   \n",
      "BaggingClassifier                  0.66               0.54     0.54      0.67   \n",
      "RandomForestClassifier             0.65               0.53     0.53      0.66   \n",
      "ExtraTreesClassifier               0.64               0.53     0.53      0.66   \n",
      "ExtraTreeClassifier                0.59               0.53     0.53      0.62   \n",
      "KNeighborsClassifier               0.59               0.52     0.52      0.62   \n",
      "NuSVC                              0.62               0.52     0.52      0.64   \n",
      "XGBClassifier                      0.65               0.52     0.52      0.66   \n",
      "DecisionTreeClassifier             0.57               0.50     0.50      0.60   \n",
      "PassiveAggressiveClassifier        0.61               0.50     0.50      0.63   \n",
      "DummyClassifier                    0.78               0.50     0.50      0.68   \n",
      "LabelSpreading                     0.56               0.49     0.49      0.59   \n",
      "LabelPropagation                   0.56               0.49     0.49      0.59   \n",
      "Perceptron                         0.59               0.46     0.46      0.61   \n",
      "\n",
      "                               Time Taken  \n",
      "Model                                      \n",
      "LogisticRegression                   0.02  \n",
      "CalibratedClassifierCV               0.69  \n",
      "LinearSVC                            0.28  \n",
      "LinearDiscriminantAnalysis           0.02  \n",
      "RidgeClassifierCV                    0.02  \n",
      "RidgeClassifier                      0.03  \n",
      "NearestCentroid                      0.01  \n",
      "SVC                                  2.54  \n",
      "SGDClassifier                        0.03  \n",
      "BernoulliNB                          0.02  \n",
      "AdaBoostClassifier                   0.20  \n",
      "GaussianNB                           0.03  \n",
      "QuadraticDiscriminantAnalysis        0.01  \n",
      "LGBMClassifier                       0.09  \n",
      "BaggingClassifier                    0.15  \n",
      "RandomForestClassifier               0.64  \n",
      "ExtraTreesClassifier                 0.56  \n",
      "ExtraTreeClassifier                  0.01  \n",
      "KNeighborsClassifier                 0.04  \n",
      "NuSVC                                4.68  \n",
      "XGBClassifier                        0.46  \n",
      "DecisionTreeClassifier               0.03  \n",
      "PassiveAggressiveClassifier          0.03  \n",
      "DummyClassifier                      0.01  \n",
      "LabelSpreading                       2.41  \n",
      "LabelPropagation                     1.43  \n",
      "Perceptron                           0.02  \n"
     ]
    },
    {
     "name": "stderr",
     "output_type": "stream",
     "text": [
      "\n"
     ]
    }
   ],
   "source": [
    "from lazypredict.Supervised import LazyClassifier\n",
    "# Lets first check using SMOTE\n",
    "clf = LazyClassifier(predictions=True)\n",
    "models, predictions = clf.fit(x_smote, x_test, y_smote, y_test)\n",
    "print(models)"
   ]
  },
  {
   "cell_type": "code",
   "execution_count": 62,
   "id": "d4420d67-99ba-47f6-820c-e8eb110dd80c",
   "metadata": {},
   "outputs": [
    {
     "name": "stderr",
     "output_type": "stream",
     "text": [
      " 97%|█████████▋| 28/29 [00:02<00:00, 12.88it/s]"
     ]
    },
    {
     "name": "stdout",
     "output_type": "stream",
     "text": [
      "[19:17:20] WARNING: D:\\bld\\xgboost-split_1643227225381\\work\\src\\learner.cc:1115: Starting in XGBoost 1.3.0, the default evaluation metric used with the objective 'binary:logistic' was changed from 'error' to 'logloss'. Explicitly set eval_metric if you'd like to restore the old behavior.\n"
     ]
    },
    {
     "name": "stderr",
     "output_type": "stream",
     "text": [
      "100%|██████████| 29/29 [00:02<00:00, 13.03it/s]"
     ]
    },
    {
     "name": "stdout",
     "output_type": "stream",
     "text": [
      "                               Accuracy  Balanced Accuracy  ROC AUC  F1 Score  \\\n",
      "Model                                                                           \n",
      "PassiveAggressiveClassifier        0.64               0.60     0.60      0.66   \n",
      "NearestCentroid                    0.63               0.57     0.57      0.65   \n",
      "LogisticRegression                 0.61               0.56     0.56      0.64   \n",
      "CalibratedClassifierCV             0.63               0.56     0.56      0.65   \n",
      "GaussianNB                         0.63               0.55     0.55      0.65   \n",
      "LinearSVC                          0.60               0.55     0.55      0.63   \n",
      "RidgeClassifierCV                  0.60               0.55     0.55      0.63   \n",
      "RidgeClassifier                    0.60               0.55     0.55      0.63   \n",
      "LinearDiscriminantAnalysis         0.60               0.55     0.55      0.63   \n",
      "BernoulliNB                        0.62               0.54     0.54      0.64   \n",
      "ExtraTreesClassifier               0.64               0.54     0.54      0.66   \n",
      "SGDClassifier                      0.56               0.54     0.54      0.60   \n",
      "Perceptron                         0.59               0.54     0.54      0.62   \n",
      "AdaBoostClassifier                 0.61               0.54     0.54      0.64   \n",
      "LGBMClassifier                     0.64               0.54     0.54      0.65   \n",
      "SVC                                0.63               0.54     0.54      0.65   \n",
      "XGBClassifier                      0.62               0.54     0.54      0.65   \n",
      "KNeighborsClassifier               0.59               0.53     0.53      0.62   \n",
      "QuadraticDiscriminantAnalysis      0.62               0.53     0.53      0.64   \n",
      "RandomForestClassifier             0.62               0.52     0.52      0.64   \n",
      "LabelPropagation                   0.59               0.52     0.52      0.62   \n",
      "LabelSpreading                     0.59               0.52     0.52      0.62   \n",
      "DecisionTreeClassifier             0.58               0.52     0.52      0.61   \n",
      "ExtraTreeClassifier                0.60               0.52     0.52      0.62   \n",
      "BaggingClassifier                  0.63               0.51     0.51      0.65   \n",
      "DummyClassifier                    0.22               0.50     0.50      0.08   \n",
      "NuSVC                              0.58               0.50     0.50      0.61   \n",
      "\n",
      "                               Time Taken  \n",
      "Model                                      \n",
      "PassiveAggressiveClassifier          0.02  \n",
      "NearestCentroid                      0.00  \n",
      "LogisticRegression                   0.01  \n",
      "CalibratedClassifierCV               0.18  \n",
      "GaussianNB                           0.02  \n",
      "LinearSVC                            0.07  \n",
      "RidgeClassifierCV                    0.01  \n",
      "RidgeClassifier                      0.02  \n",
      "LinearDiscriminantAnalysis           0.05  \n",
      "BernoulliNB                          0.01  \n",
      "ExtraTreesClassifier                 0.19  \n",
      "SGDClassifier                        0.02  \n",
      "Perceptron                           0.01  \n",
      "AdaBoostClassifier                   0.12  \n",
      "LGBMClassifier                       0.12  \n",
      "SVC                                  0.24  \n",
      "XGBClassifier                        0.15  \n",
      "KNeighborsClassifier                 0.03  \n",
      "QuadraticDiscriminantAnalysis        0.05  \n",
      "RandomForestClassifier               0.22  \n",
      "LabelPropagation                     0.11  \n",
      "LabelSpreading                       0.18  \n",
      "DecisionTreeClassifier               0.02  \n",
      "ExtraTreeClassifier                  0.01  \n",
      "BaggingClassifier                    0.05  \n",
      "DummyClassifier                      0.01  \n",
      "NuSVC                                0.32  \n"
     ]
    },
    {
     "name": "stderr",
     "output_type": "stream",
     "text": [
      "\n"
     ]
    }
   ],
   "source": [
    "models1, predictions1 = clf.fit(x_smoten, x_test, y_smoten, y_test)\n",
    "print(models1)"
   ]
  },
  {
   "cell_type": "code",
   "execution_count": 63,
   "id": "2b84485d-b2c9-48eb-8fce-06f51e4f0a08",
   "metadata": {},
   "outputs": [
    {
     "name": "stderr",
     "output_type": "stream",
     "text": [
      " 93%|█████████▎| 27/29 [00:14<00:01,  1.51it/s]"
     ]
    },
    {
     "name": "stdout",
     "output_type": "stream",
     "text": [
      "[19:21:14] WARNING: D:\\bld\\xgboost-split_1643227225381\\work\\src\\learner.cc:1115: Starting in XGBoost 1.3.0, the default evaluation metric used with the objective 'binary:logistic' was changed from 'error' to 'logloss'. Explicitly set eval_metric if you'd like to restore the old behavior.\n"
     ]
    },
    {
     "name": "stderr",
     "output_type": "stream",
     "text": [
      "100%|██████████| 29/29 [00:15<00:00,  1.90it/s]"
     ]
    },
    {
     "name": "stdout",
     "output_type": "stream",
     "text": [
      "                               Accuracy  Balanced Accuracy  ROC AUC  F1 Score  \\\n",
      "Model                                                                           \n",
      "SGDClassifier                      0.62               0.57     0.57      0.65   \n",
      "LGBMClassifier                     0.67               0.57     0.57      0.68   \n",
      "PassiveAggressiveClassifier        0.68               0.57     0.57      0.69   \n",
      "NearestCentroid                    0.62               0.57     0.57      0.65   \n",
      "XGBClassifier                      0.67               0.56     0.56      0.68   \n",
      "AdaBoostClassifier                 0.61               0.56     0.56      0.64   \n",
      "LinearSVC                          0.61               0.56     0.56      0.64   \n",
      "LogisticRegression                 0.61               0.56     0.56      0.64   \n",
      "CalibratedClassifierCV             0.62               0.56     0.56      0.65   \n",
      "RidgeClassifierCV                  0.61               0.56     0.56      0.64   \n",
      "LinearDiscriminantAnalysis         0.61               0.56     0.56      0.64   \n",
      "RidgeClassifier                    0.61               0.56     0.56      0.64   \n",
      "QuadraticDiscriminantAnalysis      0.64               0.56     0.56      0.66   \n",
      "SVC                                0.65               0.55     0.55      0.67   \n",
      "ExtraTreesClassifier               0.64               0.55     0.55      0.66   \n",
      "BaggingClassifier                  0.65               0.55     0.55      0.67   \n",
      "BernoulliNB                        0.61               0.54     0.54      0.64   \n",
      "KNeighborsClassifier               0.60               0.54     0.54      0.63   \n",
      "GaussianNB                         0.61               0.54     0.54      0.64   \n",
      "RandomForestClassifier             0.65               0.53     0.53      0.66   \n",
      "Perceptron                         0.71               0.53     0.53      0.69   \n",
      "DecisionTreeClassifier             0.59               0.52     0.52      0.62   \n",
      "ExtraTreeClassifier                0.57               0.52     0.52      0.61   \n",
      "NuSVC                              0.60               0.52     0.52      0.63   \n",
      "LabelSpreading                     0.56               0.51     0.51      0.60   \n",
      "LabelPropagation                   0.56               0.51     0.51      0.60   \n",
      "DummyClassifier                    0.22               0.50     0.50      0.08   \n",
      "\n",
      "                               Time Taken  \n",
      "Model                                      \n",
      "SGDClassifier                        0.04  \n",
      "LGBMClassifier                       0.10  \n",
      "PassiveAggressiveClassifier          0.03  \n",
      "NearestCentroid                      0.01  \n",
      "XGBClassifier                        0.46  \n",
      "AdaBoostClassifier                   0.23  \n",
      "LinearSVC                            0.15  \n",
      "LogisticRegression                   0.03  \n",
      "CalibratedClassifierCV               0.71  \n",
      "RidgeClassifierCV                    0.05  \n",
      "LinearDiscriminantAnalysis           0.03  \n",
      "RidgeClassifier                      0.03  \n",
      "QuadraticDiscriminantAnalysis        0.05  \n",
      "SVC                                  2.80  \n",
      "ExtraTreesClassifier                 0.60  \n",
      "BaggingClassifier                    0.16  \n",
      "BernoulliNB                          0.02  \n",
      "KNeighborsClassifier                 0.05  \n",
      "GaussianNB                           0.02  \n",
      "RandomForestClassifier               0.67  \n",
      "Perceptron                           0.01  \n",
      "DecisionTreeClassifier               0.03  \n",
      "ExtraTreeClassifier                  0.02  \n",
      "NuSVC                                5.04  \n",
      "LabelSpreading                       2.48  \n",
      "LabelPropagation                     1.47  \n",
      "DummyClassifier                      0.01  \n"
     ]
    },
    {
     "name": "stderr",
     "output_type": "stream",
     "text": [
      "\n"
     ]
    }
   ],
   "source": [
    "models2, predictions3 = clf.fit(x_res, x_test, y_res, y_test)\n",
    "print(models2)"
   ]
  },
  {
   "cell_type": "code",
   "execution_count": 64,
   "id": "a469a89a-09c9-4813-a231-db3b2c4326d8",
   "metadata": {},
   "outputs": [
    {
     "name": "stdout",
     "output_type": "stream",
     "text": [
      "0.7287744545062116\n",
      "{'criterion': 'gini', 'max_depth': 8, 'max_features': 'log2', 'min_samples_split': 6, 'n_estimators': 150}\n",
      "RandomForestClassifier(max_depth=8, max_features='log2', min_samples_split=6,\n",
      "                       n_estimators=150)\n"
     ]
    }
   ],
   "source": [
    "param_grid = { \n",
    "    'n_estimators': [50,100,150,200, 500],\n",
    "    'max_features': ['auto', 'sqrt', 'log2'],\n",
    "    'max_depth' : [4,5,6,7,8],\n",
    "    'criterion' :['gini', 'entropy'],\n",
    "    'min_samples_split': [3, 5, 6, 7]\n",
    "}\n",
    "CV_rfc = GridSearchCV(estimator=RandomForestClassifier(), param_grid=param_grid, cv= 5,refit=True, verbose=0)\n",
    "CV_rfc.fit(x_res,y_res)\n",
    "best_model(CV_rfc)"
   ]
  },
  {
   "cell_type": "code",
   "execution_count": 36,
   "id": "31f020a9-037a-4e22-9327-5a6307124994",
   "metadata": {},
   "outputs": [
    {
     "name": "stdout",
     "output_type": "stream",
     "text": [
      "              precision    recall  f1-score   support\n",
      "\n",
      "           0       0.80      0.72      0.76       502\n",
      "           1       0.26      0.35      0.30       143\n",
      "\n",
      "    accuracy                           0.64       645\n",
      "   macro avg       0.53      0.53      0.53       645\n",
      "weighted avg       0.68      0.64      0.65       645\n",
      "\n"
     ]
    }
   ],
   "source": [
    "rbn=RandomForestClassifier(criterion='gini', max_depth=8, max_features='log2', n_estimators=150, min_samples_split=6)\n",
    "rbn.fit(x_smote,y_smote)\n",
    "y_pred_gd=rbn.predict(x_test)\n",
    "print(metrics.classification_report(y_test,y_pred_gd))"
   ]
  },
  {
   "cell_type": "code",
   "execution_count": 17,
   "id": "e1ef2316-10b0-4a66-93b9-a6b4a2c5040a",
   "metadata": {},
   "outputs": [
    {
     "name": "stdout",
     "output_type": "stream",
     "text": [
      "0.5090631636719403\n",
      "{'C': 0.1, 'fit_intercept': True, 'intercept_scaling': 1, 'max_iter': 250, 'penalty': 'l2', 'tol': 1e-05}\n",
      "LogisticRegression(C=0.1, max_iter=250, tol=1e-05)\n"
     ]
    }
   ],
   "source": [
    "param_grid = {'C': [0.1,0.5,1,10,50,100], 'max_iter': [250], 'fit_intercept':[True],'intercept_scaling':[1],\n",
    "              'penalty':['l1','l2'], 'tol':[0.00001,0.0001,0.000001]}\n",
    "log_primal_Grid = GridSearchCV(LogisticRegression(solver='lbfgs'),param_grid, cv=10, refit=True, verbose=0)\n",
    "log_primal_Grid.fit(x_res,y_res)\n",
    "best_model(log_primal_Grid)"
   ]
  },
  {
   "cell_type": "code",
   "execution_count": 18,
   "id": "92741395-22fc-44f2-a23e-f2e7d5ff8095",
   "metadata": {},
   "outputs": [
    {
     "name": "stdout",
     "output_type": "stream",
     "text": [
      "              precision    recall  f1-score   support\n",
      "\n",
      "           0       0.78      1.00      0.88       502\n",
      "           1       0.00      0.00      0.00       143\n",
      "\n",
      "    accuracy                           0.78       645\n",
      "   macro avg       0.39      0.50      0.44       645\n",
      "weighted avg       0.61      0.78      0.68       645\n",
      "\n"
     ]
    }
   ],
   "source": [
    "# Fit primal logistic regression\n",
    "log_primal = LogisticRegression(C=0.1,dual=False, fit_intercept=True,intercept_scaling=1, max_iter=50, multi_class='auto',n_jobs=None, \n",
    "                                penalty='l2', random_state=None,tol=1e-05, verbose=0)\n",
    "log_primal.fit(x_train,y_train)\n",
    "y_pred_lr=log_primal.predict(x_test)\n",
    "print(metrics.classification_report(y_test,y_pred_lr))"
   ]
  },
  {
   "cell_type": "code",
   "execution_count": 19,
   "id": "49e426b4-3a59-4484-af49-ab8dc2c7a2d9",
   "metadata": {},
   "outputs": [
    {
     "name": "stdout",
     "output_type": "stream",
     "text": [
      "0.713428916447835\n",
      "{'C': 10, 'fit_intercept': True, 'intercept_scaling': 1, 'max_iter': 300, 'penalty': 'l2', 'tol': 1e-06}\n",
      "LogisticRegression(C=10, max_iter=300, solver='liblinear', tol=1e-06)\n"
     ]
    }
   ],
   "source": [
    "# Fit logistic regression with degree 2 polynomial kernel\n",
    "param_grid = {'C': [0.1,10,50], 'max_iter': [300,500], 'fit_intercept':[True],'intercept_scaling':[1],'penalty':['l2'],\n",
    "              'tol':[0.0001,0.000001]}\n",
    "poly2 = PolynomialFeatures(degree=2)\n",
    "df_train_pol2 = poly2.fit_transform(x_smote)\n",
    "log_pol2_Grid = GridSearchCV(LogisticRegression(solver = 'liblinear'),param_grid, cv=5, refit=True, verbose=0)\n",
    "log_pol2_Grid.fit(df_train_pol2,y_smote)\n",
    "best_model(log_pol2_Grid)"
   ]
  },
  {
   "cell_type": "code",
   "execution_count": 33,
   "id": "e8bc559a-5916-4eef-9fff-82a659e37fe4",
   "metadata": {},
   "outputs": [
    {
     "name": "stdout",
     "output_type": "stream",
     "text": [
      "              precision    recall  f1-score   support\n",
      "\n",
      "           0       0.82      0.68      0.75       502\n",
      "           1       0.30      0.48      0.37       143\n",
      "\n",
      "    accuracy                           0.64       645\n",
      "   macro avg       0.56      0.58      0.56       645\n",
      "weighted avg       0.71      0.64      0.66       645\n",
      "\n"
     ]
    }
   ],
   "source": [
    "poly2 = PolynomialFeatures(degree=2)\n",
    "df_train_pol2 = poly2.fit_transform(x_smote)\n",
    "log_pol2 = LogisticRegression(C=10, class_weight='balanced', dual=False, fit_intercept=True,intercept_scaling=1, max_iter=300, multi_class='auto', n_jobs=None, \n",
    "                              penalty='l2', random_state=None, solver='liblinear',tol=1e-06, verbose=0, warm_start=False)\n",
    "log_pol2.fit(x_smoten,y_smoten)\n",
    "y_pred_lrp=log_pol2.predict(x_test)\n",
    "print(metrics.classification_report(y_test,y_pred_lrp))"
   ]
  },
  {
   "cell_type": "code",
   "execution_count": null,
   "id": "54e78ce5-2daf-4a93-abe6-65c3942c398a",
   "metadata": {},
   "outputs": [],
   "source": [
    "# Fit SVM with RBF Kernel\n",
    "param_grid = {'C': [0.5,100,150], 'gamma': [0.1,0.01,0.001],'probability':[True],'kernel': ['rbf']}\n",
    "SVM_grid = GridSearchCV(SVC(), param_grid, cv=3, refit=True, verbose=0)\n",
    "SVM_grid.fit(x_smote,y_smote)\n",
    "best_model(SVM_grid)"
   ]
  },
  {
   "cell_type": "code",
   "execution_count": 34,
   "id": "13589906-e301-45f8-b465-6fd97e241c8e",
   "metadata": {},
   "outputs": [
    {
     "name": "stdout",
     "output_type": "stream",
     "text": [
      "              precision    recall  f1-score   support\n",
      "\n",
      "           0       0.78      0.79      0.79       502\n",
      "           1       0.24      0.23      0.24       143\n",
      "\n",
      "    accuracy                           0.67       645\n",
      "   macro avg       0.51      0.51      0.51       645\n",
      "weighted avg       0.66      0.67      0.67       645\n",
      "\n"
     ]
    }
   ],
   "source": [
    "SVM_RBF = SVC(C=100, cache_size=200, class_weight=None, coef0=0.0, decision_function_shape='ovr', degree=3, gamma=0.001, kernel='rbf', max_iter=-1, probability=True, \n",
    "              random_state=None, shrinking=True,tol=0.001, verbose=False)\n",
    "SVM_RBF.fit(x_res,y_res)\n",
    "y_pred_svm=SVM_RBF.predict(x_test)\n",
    "print(metrics.classification_report(y_test,y_pred_svm))"
   ]
  },
  {
   "cell_type": "code",
   "execution_count": null,
   "id": "08f93327-3f36-47f0-8ad5-fa8d6f4195f8",
   "metadata": {},
   "outputs": [],
   "source": [
    "param_grid = {'max_depth': [5,6,7,8], 'gamma': [0.01,0.001,0.001],'min_child_weight':[1,5,10], 'learning_rate': [0.05,0.1, 0.2, 0.3], 'n_estimators':[50,100,200,300]}\n",
    "xgb_grid = GridSearchCV(XGBClassifier(use_label_encoder=False, eval_metric='logloss'), param_grid, cv=5, refit=True, verbose=0)\n",
    "xgb_grid.fit(x_smote,y_smote)\n",
    "best_model(xgb_grid)"
   ]
  },
  {
   "cell_type": "code",
   "execution_count": 27,
   "id": "26bc9a38-d32c-4440-bda0-7214597c0754",
   "metadata": {},
   "outputs": [
    {
     "name": "stdout",
     "output_type": "stream",
     "text": [
      "              precision    recall  f1-score   support\n",
      "\n",
      "           0       0.80      0.76      0.78       502\n",
      "           1       0.27      0.31      0.29       143\n",
      "\n",
      "    accuracy                           0.66       645\n",
      "   macro avg       0.53      0.54      0.53       645\n",
      "weighted avg       0.68      0.66      0.67       645\n",
      "\n"
     ]
    }
   ],
   "source": [
    "XGB = XGBClassifier(base_score=0.5, booster='gbtree', colsample_bylevel=1,\n",
    "              colsample_bynode=1, colsample_bytree=1, enable_categorical=False,\n",
    "              eval_metric='logloss', gamma=0.001, gpu_id=-1,\n",
    "              importance_type=None, interaction_constraints='',\n",
    "              learning_rate=0.3, max_delta_step=0, max_depth=8,\n",
    "              min_child_weight=1, monotone_constraints='()',\n",
    "              n_estimators=300, n_jobs=4, num_parallel_tree=1, predictor='auto',\n",
    "              random_state=0, reg_alpha=0, reg_lambda=1, scale_pos_weight=1,\n",
    "              subsample=1, tree_method='exact', use_label_encoder=False,\n",
    "              validate_parameters=1, verbosity=None)\n",
    "XGB.fit(x_smote,y_smote)\n",
    "y_pred_xg=XGB.predict(x_test)\n",
    "print(metrics.classification_report(y_test,y_pred_xg))"
   ]
  },
  {
   "cell_type": "code",
   "execution_count": 30,
   "id": "66c34b28-8f0d-47a9-8f95-4853a5b68925",
   "metadata": {},
   "outputs": [
    {
     "name": "stdout",
     "output_type": "stream",
     "text": [
      "Fitting 10 folds for each of 30 candidates, totalling 300 fits\n",
      "0.6282313681868743\n",
      "{'n_neighbors': 11}\n",
      "KNeighborsClassifier(n_neighbors=11)\n"
     ]
    }
   ],
   "source": [
    "k_range = list(range(1, 31))\n",
    "param_grid = dict(n_neighbors=k_range)\n",
    "knn = GridSearchCV(KNeighborsClassifier(), param_grid, cv=10, scoring='accuracy', return_train_score=False,verbose=1)\n",
    "knn.fit(x_smote, y_smote)\n",
    "best_model(knn)"
   ]
  },
  {
   "cell_type": "code",
   "execution_count": 31,
   "id": "cb0d4d1f-a11c-456d-aea1-eac47a613feb",
   "metadata": {},
   "outputs": [
    {
     "name": "stdout",
     "output_type": "stream",
     "text": [
      "              precision    recall  f1-score   support\n",
      "\n",
      "           0       0.80      0.61      0.69       502\n",
      "           1       0.25      0.47      0.33       143\n",
      "\n",
      "    accuracy                           0.58       645\n",
      "   macro avg       0.53      0.54      0.51       645\n",
      "weighted avg       0.68      0.58      0.61       645\n",
      "\n"
     ]
    }
   ],
   "source": [
    "knn=KNeighborsClassifier(n_neighbors=11)\n",
    "knn.fit(x_smote,y_smote)\n",
    "y_pred_nn= knn.predict(x_test)\n",
    "print(metrics.classification_report(y_test,y_pred_nn))"
   ]
  },
  {
   "cell_type": "code",
   "execution_count": 37,
   "id": "e81650cc-2795-4e39-b162-bc54c39a4363",
   "metadata": {},
   "outputs": [
    {
     "name": "stdout",
     "output_type": "stream",
     "text": [
      "Final Accuracy Score \n",
      "              precision    recall  f1-score   support\n",
      "\n",
      "           0       0.81      0.71      0.76       502\n",
      "           1       0.29      0.43      0.35       143\n",
      "\n",
      "    accuracy                           0.65       645\n",
      "   macro avg       0.55      0.57      0.55       645\n",
      "weighted avg       0.70      0.65      0.67       645\n",
      "\n"
     ]
    }
   ],
   "source": [
    "from sklearn.ensemble import VotingClassifier\n",
    "clf1 = log_pol2\n",
    "clf2=rbn\n",
    "clf3=knn\n",
    "clf4 = SVM_RBF\n",
    "clf5 = XGB\n",
    "eclf1 = VotingClassifier(estimators=[('Lr',clf1),('rbn',clf2),('knn',clf3)], voting='soft')\n",
    "eclf1.fit(x_smote, y_smote)\n",
    "predictions = eclf1.predict(x_test)\n",
    "print(\"Final Accuracy Score \")\n",
    "print(metrics.classification_report(y_test, predictions))"
   ]
  },
  {
   "cell_type": "code",
   "execution_count": 38,
   "id": "67136816-acd5-4947-8762-cbcb27aba4b2",
   "metadata": {},
   "outputs": [],
   "source": [
    "data_test['Gender']=le.fit_transform(data_test['Gender'])\n",
    "data_test['Income']= le.fit_transform(data_test['Income'])\n",
    "data_test['Credit_Category']= le.fit_transform(data_test['Credit_Category'])\n",
    "data_test['Product_Holdings']=data_test['Product_Holdings'].str.extract('(\\d+)')\n",
    "data_test['Product_Holdings']=data_test['Product_Holdings'].astype('int64')\n",
    "test_row_id=data_test['ID']\n",
    "testing=data_test.drop('ID', axis=1)\n",
    "final_predictions=XGB.predict(testing)\n",
    "data={'ID':test_row_id,'Is_Churn':final_predictions}\n",
    "submit=pd.DataFrame(data)\n",
    "submit.head()\n",
    "\n",
    "submit.to_csv('submitbankfinal.csv', index=False)"
   ]
  },
  {
   "cell_type": "code",
   "execution_count": null,
   "id": "f321bbe3-92f9-4e69-8482-6134d57a96bc",
   "metadata": {},
   "outputs": [],
   "source": []
  }
 ],
 "metadata": {
  "kernelspec": {
   "display_name": "Python 3 (ipykernel)",
   "language": "python",
   "name": "python3"
  },
  "language_info": {
   "codemirror_mode": {
    "name": "ipython",
    "version": 3
   },
   "file_extension": ".py",
   "mimetype": "text/x-python",
   "name": "python",
   "nbconvert_exporter": "python",
   "pygments_lexer": "ipython3",
   "version": "3.9.7"
  }
 },
 "nbformat": 4,
 "nbformat_minor": 5
}
